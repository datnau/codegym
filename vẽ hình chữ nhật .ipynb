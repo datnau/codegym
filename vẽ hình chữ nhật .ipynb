{
 "cells": [
  {
   "cell_type": "code",
   "execution_count": null,
   "id": "f033cc5c",
   "metadata": {},
   "outputs": [],
   "source": [
    "import turtle \n",
    "\n",
    "t = turtle.Turtle()\n",
    "\n",
    "m = 200;\n",
    "n = 400;\n",
    "\n",
    "t.goto(-100,-200)\n",
    "t.pensize(10)\n",
    "\n",
    "t.forward(m) \n",
    "t.left(90)\n",
    "\n",
    "t.forward(n)\n",
    "t.left(90)\n",
    "\n",
    "t.forward(m)\n",
    "t.left (90)\n",
    "\n",
    "t.forward (n)\n",
    "t.left (90)\n",
    "\n",
    "turtle.done()"
   ]
  }
 ],
 "metadata": {
  "kernelspec": {
   "display_name": "Python 3 (ipykernel)",
   "language": "python",
   "name": "python3"
  },
  "language_info": {
   "codemirror_mode": {
    "name": "ipython",
    "version": 3
   },
   "file_extension": ".py",
   "mimetype": "text/x-python",
   "name": "python",
   "nbconvert_exporter": "python",
   "pygments_lexer": "ipython3",
   "version": "3.9.12"
  }
 },
 "nbformat": 4,
 "nbformat_minor": 5
}

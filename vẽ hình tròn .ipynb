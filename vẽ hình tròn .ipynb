{
 "cells": [
  {
   "cell_type": "code",
   "execution_count": null,
   "id": "0d54086b",
   "metadata": {},
   "outputs": [],
   "source": [
    "import turtle \n",
    "\n",
    "turtle.pensize (5)\n",
    "\n",
    "turtle.pencolor (\"red\")\n",
    "\n",
    "turtle.goto(0,-150)\n",
    "\n",
    "turtle.fillcolor(\"blue\")\n",
    "\n",
    "turtle.bgcolor(\"black\")\n",
    "\n",
    "turtle.begin_fill ()\n",
    "\n",
    "turtle.circle(150)\n",
    "\n",
    "\n",
    "\n",
    "turtle.end_fill()\n",
    "\n",
    "turtle.done "
   ]
  }
 ],
 "metadata": {
  "kernelspec": {
   "display_name": "Python 3 (ipykernel)",
   "language": "python",
   "name": "python3"
  },
  "language_info": {
   "codemirror_mode": {
    "name": "ipython",
    "version": 3
   },
   "file_extension": ".py",
   "mimetype": "text/x-python",
   "name": "python",
   "nbconvert_exporter": "python",
   "pygments_lexer": "ipython3",
   "version": "3.9.12"
  }
 },
 "nbformat": 4,
 "nbformat_minor": 5
}

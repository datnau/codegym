{
 "cells": [
  {
   "cell_type": "code",
   "execution_count": 1,
   "id": "2ee27b34",
   "metadata": {},
   "outputs": [
    {
     "name": "stdout",
     "output_type": "stream",
     "text": [
      "Mời nhập mã màu:blue\n",
      "Mời nhập chiều dài: 200\n",
      "Mời nnhập chiều rộng: 100\n",
      "Chu vi của hình chữ nhật (dài = 200.0, rộng = 100.0) là 600.0\n",
      "Diện tích của hình chữ nhật (dài = 200.0, rộng = 100.0) là 20000.0\n"
     ]
    }
   ],
   "source": [
    "import turtle\n",
    "\n",
    "#nhập xuất dữ liệu\n",
    "color = input(\"Mời nhập mã màu:\")\n",
    "\n",
    "d = float(input(\"Mời nhập chiều dài: \"))\n",
    "r = float(input(\"Mời nnhập chiều rộng: \"))\n",
    "\n",
    "t = turtle.Turtle()\n",
    "t.hideturtle()\n",
    "\n",
    "t.color(color)\n",
    "t.begin_fill\n",
    "\n",
    "t.forward(d)\n",
    "t.right(90)\n",
    "\n",
    "t.forward(r)\n",
    "t.right(90)\n",
    "\n",
    "t.forward(d)\n",
    "t.right(90)\n",
    "\n",
    "t.forward(r)\n",
    "t.right(90)\n",
    "\n",
    "turtle.done()\n",
    "\n",
    "#tính chu vi\n",
    "\n",
    "c =  2 * (d+r)\n",
    "s = d * r\n",
    "\n",
    "print(\"Chu vi của hình chữ nhật (dài = {d}, rộng = {r}) là {c}\".format(d=d, r=r, c=c))\n",
    "print(\"Diện tích của hình chữ nhật (dài = {d}, rộng = {r}) là {s}\".format(d=d, r=r, s=s))\n"
   ]
  },
  {
   "cell_type": "code",
   "execution_count": null,
   "id": "e5dc86ae",
   "metadata": {},
   "outputs": [],
   "source": []
  }
 ],
 "metadata": {
  "kernelspec": {
   "display_name": "Python 3 (ipykernel)",
   "language": "python",
   "name": "python3"
  },
  "language_info": {
   "codemirror_mode": {
    "name": "ipython",
    "version": 3
   },
   "file_extension": ".py",
   "mimetype": "text/x-python",
   "name": "python",
   "nbconvert_exporter": "python",
   "pygments_lexer": "ipython3",
   "version": "3.9.12"
  }
 },
 "nbformat": 4,
 "nbformat_minor": 5
}

{
 "cells": [
  {
   "cell_type": "code",
   "execution_count": 1,
   "id": "7181a684",
   "metadata": {},
   "outputs": [
    {
     "ename": "Terminator",
     "evalue": "",
     "output_type": "error",
     "traceback": [
      "\u001b[1;31m---------------------------------------------------------------------------\u001b[0m",
      "\u001b[1;31mTerminator\u001b[0m                                Traceback (most recent call last)",
      "Input \u001b[1;32mIn [1]\u001b[0m, in \u001b[0;36m<cell line: 53>\u001b[1;34m()\u001b[0m\n\u001b[0;32m     50\u001b[0m turtle\u001b[38;5;241m.\u001b[39mcircle(\u001b[38;5;241m100\u001b[39m,\u001b[38;5;241m180\u001b[39m)\n\u001b[0;32m     51\u001b[0m turtle\u001b[38;5;241m.\u001b[39mmainloop()\n\u001b[1;32m---> 53\u001b[0m \u001b[43mturtle\u001b[49m\u001b[38;5;241;43m.\u001b[39;49m\u001b[43mdone\u001b[49m\u001b[43m(\u001b[49m\u001b[43m)\u001b[49m\n",
      "File \u001b[1;32m<string>:5\u001b[0m, in \u001b[0;36mmainloop\u001b[1;34m()\u001b[0m\n",
      "\u001b[1;31mTerminator\u001b[0m: "
     ]
    }
   ],
   "source": [
    "import turtle\n",
    "\n",
    "\n",
    "turtle.pensize(5) \n",
    "turtle.speed(10)\n",
    " \n",
    "#màu bút \n",
    "turtle.pencolor(\"Black\")\n",
    "\n",
    "# vẽ mặt\n",
    "turtle.fillcolor (\"yellow\")\n",
    "turtle.begin_fill()\n",
    "turtle.penup()\n",
    "turtle.goto(0, -200)\n",
    "turtle.pendown()\n",
    "turtle.circle(300)\n",
    "turtle.end_fill()\n",
    "\n",
    "#vẽ mắt trái\n",
    "turtle.fillcolor (\"black\")\n",
    "turtle.penup()\n",
    "turtle.goto(-100,100)\n",
    "turtle.pendown()\n",
    " \n",
    "\n",
    "\n",
    "#vẽ mắt phải\n",
    "turtle.begin_fill()\n",
    "turtle.circle(20)\n",
    "turtle.end_fill()\n",
    "turtle.penup()\n",
    " \n",
    "turtle.goto(100,100)\n",
    "turtle.pendown()\n",
    "turtle.begin_fill()\n",
    "turtle.circle(20)\n",
    "turtle.end_fill()\n",
    "\n",
    "#vẽ mũi\n",
    "turtle.penup ()\n",
    "turtle.goto(0,100)\n",
    "turtle.pendown()\n",
    "turtle.circle(-100, steps=3)\n",
    "\n",
    "#vẽ miệng \n",
    "turtle.penup()\n",
    "turtle.goto(-100, -90)\n",
    "turtle.pendown()\n",
    "turtle.right(90)\n",
    "turtle.circle(100,180)\n",
    "turtle.mainloop()\n",
    "\n",
    "turtle.done()"
   ]
  },
  {
   "cell_type": "code",
   "execution_count": null,
   "id": "cca275cb",
   "metadata": {},
   "outputs": [],
   "source": []
  }
 ],
 "metadata": {
  "kernelspec": {
   "display_name": "Python 3 (ipykernel)",
   "language": "python",
   "name": "python3"
  },
  "language_info": {
   "codemirror_mode": {
    "name": "ipython",
    "version": 3
   },
   "file_extension": ".py",
   "mimetype": "text/x-python",
   "name": "python",
   "nbconvert_exporter": "python",
   "pygments_lexer": "ipython3",
   "version": "3.9.12"
  }
 },
 "nbformat": 4,
 "nbformat_minor": 5
}

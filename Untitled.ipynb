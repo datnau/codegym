{
 "cells": [
  {
   "cell_type": "code",
   "execution_count": 1,
   "id": "461c63d1",
   "metadata": {},
   "outputs": [
    {
     "name": "stdout",
     "output_type": "stream",
     "text": [
      "Nhập số tiền USD:20\n",
      "Số tiền quy đổi từ 20.0 USD sang VND là: 496.98\n"
     ]
    }
   ],
   "source": [
    "usd = float(input(\"Nhập số tiền USD:\"))\n",
    "vnd = usd*24.849\n",
    "print(\"Số tiền quy đổi từ\",usd, \"USD\" , \"sang VND là:\",vnd)"
   ]
  },
  {
   "cell_type": "code",
   "execution_count": null,
   "id": "51925b20",
   "metadata": {},
   "outputs": [],
   "source": []
  }
 ],
 "metadata": {
  "kernelspec": {
   "display_name": "Python 3 (ipykernel)",
   "language": "python",
   "name": "python3"
  },
  "language_info": {
   "codemirror_mode": {
    "name": "ipython",
    "version": 3
   },
   "file_extension": ".py",
   "mimetype": "text/x-python",
   "name": "python",
   "nbconvert_exporter": "python",
   "pygments_lexer": "ipython3",
   "version": "3.9.12"
  }
 },
 "nbformat": 4,
 "nbformat_minor": 5
}

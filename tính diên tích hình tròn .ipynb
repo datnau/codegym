{
 "cells": [
  {
   "cell_type": "code",
   "execution_count": 3,
   "id": "6d3e7ac5",
   "metadata": {},
   "outputs": [
    {
     "name": "stdout",
     "output_type": "stream",
     "text": [
      "nhập bán kính:60\n",
      "Chu vi của hình tròn có bán kính = 60 là 376.99111843077515\n",
      "Diện tích của hình tròn có bán kính = 60 là 11309.733552923255\n"
     ]
    }
   ],
   "source": [
    "import turtle\n",
    "import math\n",
    "r = int(input(\"nhập bán kính:\"))\n",
    "\n",
    "t = turtle.Turtle()\n",
    "t.hideturtle()\n",
    "t.pensize(2)\n",
    "t.color(\"sky blue\")\n",
    "t.circle(r)\n",
    "turtle.done()\n",
    "\n",
    "c = 2 * math.pi * r\n",
    "s = math.pi * r * r\n",
    "\n",
    "print(\"Chu vi của hình tròn có bán kính = {r} là {c}\".format(r=r, c=c))\n",
    "print(\"Diện tích của hình tròn có bán kính = {r} là {s}\".format(r=r, s=s))"
   ]
  },
  {
   "cell_type": "code",
   "execution_count": null,
   "id": "42fad2d0",
   "metadata": {},
   "outputs": [],
   "source": []
  }
 ],
 "metadata": {
  "kernelspec": {
   "display_name": "Python 3 (ipykernel)",
   "language": "python",
   "name": "python3"
  },
  "language_info": {
   "codemirror_mode": {
    "name": "ipython",
    "version": 3
   },
   "file_extension": ".py",
   "mimetype": "text/x-python",
   "name": "python",
   "nbconvert_exporter": "python",
   "pygments_lexer": "ipython3",
   "version": "3.9.12"
  }
 },
 "nbformat": 4,
 "nbformat_minor": 5
}
